{
 "cells": [
  {
   "cell_type": "code",
   "execution_count": 3,
   "id": "72b20637",
   "metadata": {},
   "outputs": [],
   "source": [
    "import pandas as pd "
   ]
  },
  {
   "cell_type": "code",
   "execution_count": 4,
   "id": "c0e3e4f7",
   "metadata": {},
   "outputs": [
    {
     "name": "stdout",
     "output_type": "stream",
     "text": [
      "21 Tracking Number Reference Number            Account Manager  \\\n",
      "0   63775055655001          #121920  Bassant  Abouelela sadek    \n",
      "1   63775236174001          #127761  Bassant  Abouelela sadek    \n",
      "2   63775559677001          #133763  Bassant  Abouelela sadek    \n",
      "3   63775559677002          #126410  Bassant  Abouelela sadek    \n",
      "4   63775559677003          #126035  Bassant  Abouelela sadek    \n",
      "\n",
      "21 Activation Date   First Attempt Date            Customer Name  \\\n",
      "0       21/06/2021  10/28/2024 19:12:44      Norhan Abd El-Ghany   \n",
      "1       21/06/2021  11/20/2024 15:42:40                sara reda   \n",
      "2       21/06/2021  10/02/2024 17:32:56       dareen nagy wahdan   \n",
      "3       21/06/2021  10/02/2024 18:20:59  إسراء عبد الفتاح الفتاح   \n",
      "4       21/06/2021  10/02/2024 17:42:20            Haidi Mohamed   \n",
      "\n",
      "21 Customer Mobile                                            Address  \\\n",
      "0      01026675693   , سموحة، ش كمال الدين صلاح متفرع من ش فوزي مع...   \n",
      "1      01023224375   , 5 شارع موسى الكاظم محرم بك امتداد شارع المأ...   \n",
      "2      01159102402   الدور الاولي هتستلم في الشركة 90 الجنوبي, Sod...   \n",
      "3      01096655637   , المنصوره شارع تشكه جي الجامعه عند مطعم شيلت...   \n",
      "4      01092356202   , 39 شارع سوريا-رشدي-ابراج رجال الاعمال-الدور...   \n",
      "\n",
      "21         Pick-Up Date     Status Status Date Destination Hub  Origin Hub  \\\n",
      "0   28/10/2024 17:24:15  Delivered  05/11/2024      Alexandria  Alexandria   \n",
      "1   20/11/2024 15:42:17  Delivered  27/11/2024      Alexandria  Alexandria   \n",
      "2   01/10/2024 19:30:19   Returned  09/10/2024        East Hub  Alexandria   \n",
      "3   01/10/2024 19:30:19  Delivered  05/10/2024        Mansoura  Alexandria   \n",
      "4   01/10/2024 19:30:20  Delivered  02/10/2024      Alexandria  Alexandria   \n",
      "\n",
      "21      Payment Type   COD Rescheduled/Rejection Reason Special Notes  \\\n",
      "0   Cash-On-Delivery  3294         Customer unavailable           NaN   \n",
      "1   Cash-On-Delivery  2645         Customer unavailable           NaN   \n",
      "2   Cash-On-Delivery  4941             Customer refused           NaN   \n",
      "3   Cash-On-Delivery  3294   Customer phone unreachable           NaN   \n",
      "4   Cash-On-Delivery  3294                          NaN           NaN   \n",
      "\n",
      "21                                        Description Pickup Location  \\\n",
      "0           Title: Hot Air Brush Pro(  ), Quantity: 1            alex   \n",
      "1   Title: Infrared Steam Straightener( Sku12 ), Q...            alex   \n",
      "2           Title: Hot Air Brush Pro(  ), Quantity: 1            alex   \n",
      "3           Title: Hot Air Brush Pro(  ), Quantity: 1            alex   \n",
      "4           Title: Hot Air Brush Pro(  ), Quantity: 1            alex   \n",
      "\n",
      "21 Number of Attempts  \n",
      "0                   1  \n",
      "1                   1  \n",
      "2                   1  \n",
      "3                   2  \n",
      "4                   1  \n"
     ]
    }
   ],
   "source": [
    "mylerz = r\"csv_output\\mylerz.csv\"\n",
    "\n",
    "df = pd.read_csv(mylerz, header=None)\n",
    "\n",
    "df.columns = df.iloc[21]\n",
    "df = df.iloc[22:].reset_index(drop=True)\n",
    "df = df.dropna(how='all').dropna(axis=1, how='all')\n",
    "\n",
    "\n",
    "print(df.head())"
   ]
  },
  {
   "cell_type": "code",
   "execution_count": 5,
   "id": "4ccfbd83",
   "metadata": {},
   "outputs": [
    {
     "data": {
      "text/plain": [
       "Index(['Tracking Number', 'Reference Number', 'Account Manager',\n",
       "       'Activation Date', 'First Attempt Date', 'Customer Name',\n",
       "       'Customer Mobile', 'Address', 'Pick-Up Date', 'Status', 'Status Date',\n",
       "       'Destination Hub', 'Origin Hub', 'Payment Type', 'COD',\n",
       "       'Rescheduled/Rejection Reason', 'Special Notes', 'Description',\n",
       "       'Pickup Location', 'Number of Attempts'],\n",
       "      dtype='object', name=21)"
      ]
     },
     "execution_count": 5,
     "metadata": {},
     "output_type": "execute_result"
    }
   ],
   "source": [
    "df.columns"
   ]
  },
  {
   "cell_type": "code",
   "execution_count": 88,
   "id": "b5d41abb",
   "metadata": {},
   "outputs": [
    {
     "data": {
      "text/plain": [
       "array(['Delivered', 'Returned', 'In Progress', 'Undelivered', nan],\n",
       "      dtype=object)"
      ]
     },
     "execution_count": 88,
     "metadata": {},
     "output_type": "execute_result"
    }
   ],
   "source": [
    "df['Status'].unique()"
   ]
  },
  {
   "cell_type": "code",
   "execution_count": 89,
   "id": "e48b9b15",
   "metadata": {},
   "outputs": [
    {
     "name": "stdout",
     "output_type": "stream",
     "text": [
      "<class 'pandas.core.frame.DataFrame'>\n",
      "RangeIndex: 903 entries, 0 to 902\n",
      "Data columns (total 20 columns):\n",
      " #   Column                        Non-Null Count  Dtype \n",
      "---  ------                        --------------  ----- \n",
      " 0   Tracking Number               903 non-null    object\n",
      " 1   Reference Number              902 non-null    object\n",
      " 2   Account Manager               902 non-null    object\n",
      " 3   Activation Date               902 non-null    object\n",
      " 4   First Attempt Date            861 non-null    object\n",
      " 5   Customer Name                 902 non-null    object\n",
      " 6   Customer Mobile               902 non-null    object\n",
      " 7   Address                       902 non-null    object\n",
      " 8   Pick-Up Date                  902 non-null    object\n",
      " 9   Status                        902 non-null    object\n",
      " 10  Status Date                   902 non-null    object\n",
      " 11  Destination Hub               902 non-null    object\n",
      " 12  Origin Hub                    902 non-null    object\n",
      " 13  Payment Type                  902 non-null    object\n",
      " 14  COD                           902 non-null    object\n",
      " 15  Rescheduled/Rejection Reason  418 non-null    object\n",
      " 16  Special Notes                 901 non-null    object\n",
      " 17  Description                   902 non-null    object\n",
      " 18  Pickup Location               902 non-null    object\n",
      " 19  Number of Attempts            902 non-null    object\n",
      "dtypes: object(20)\n",
      "memory usage: 141.2+ KB\n"
     ]
    }
   ],
   "source": [
    "df.info()"
   ]
  },
  {
   "cell_type": "code",
   "execution_count": 90,
   "id": "14834c30",
   "metadata": {},
   "outputs": [],
   "source": [
    "df['Reference Number'] = df['Reference Number'].astype(str).str.replace('#', '', regex=True)\n",
    "\n",
    "df = df.rename(columns={\n",
    "    'Reference Number': 'OrderID',\n",
    "    'Tracking Number': 'AWB',\n",
    "    'Destination Hub': 'HUB'\n",
    "})\n"
   ]
  },
  {
   "cell_type": "code",
   "execution_count": 91,
   "id": "fcf0bac9",
   "metadata": {},
   "outputs": [],
   "source": [
    "df=df[['AWB','OrderID', 'Status Date','HUB']]"
   ]
  },
  {
   "cell_type": "code",
   "execution_count": 92,
   "id": "8504c3af",
   "metadata": {},
   "outputs": [
    {
     "name": "stdout",
     "output_type": "stream",
     "text": [
      "<class 'pandas.core.frame.DataFrame'>\n",
      "RangeIndex: 903 entries, 0 to 902\n",
      "Data columns (total 4 columns):\n",
      " #   Column       Non-Null Count  Dtype         \n",
      "---  ------       --------------  -----         \n",
      " 0   AWB          903 non-null    object        \n",
      " 1   OrderID      903 non-null    object        \n",
      " 2   Status Date  902 non-null    datetime64[ns]\n",
      " 3   HUB          902 non-null    object        \n",
      "dtypes: datetime64[ns](1), object(3)\n",
      "memory usage: 28.3+ KB\n"
     ]
    }
   ],
   "source": [
    "df['Status Date'] = pd.to_datetime(\n",
    "    df['Status Date'],\n",
    "    format=\"%d/%m/%Y\",   # غيّرها حسب شكل التاريخ في بياناتك\n",
    "    errors='coerce'\n",
    ")\n",
    "\n",
    "df.info()\n"
   ]
  },
  {
   "cell_type": "code",
   "execution_count": 77,
   "id": "73b1638c",
   "metadata": {},
   "outputs": [
    {
     "data": {
      "text/html": [
       "<div>\n",
       "<style scoped>\n",
       "    .dataframe tbody tr th:only-of-type {\n",
       "        vertical-align: middle;\n",
       "    }\n",
       "\n",
       "    .dataframe tbody tr th {\n",
       "        vertical-align: top;\n",
       "    }\n",
       "\n",
       "    .dataframe thead th {\n",
       "        text-align: right;\n",
       "    }\n",
       "</style>\n",
       "<table border=\"1\" class=\"dataframe\">\n",
       "  <thead>\n",
       "    <tr style=\"text-align: right;\">\n",
       "      <th>21</th>\n",
       "      <th>AWB</th>\n",
       "      <th>OrderID</th>\n",
       "      <th>Status Date</th>\n",
       "      <th>HUB</th>\n",
       "    </tr>\n",
       "  </thead>\n",
       "  <tbody>\n",
       "    <tr>\n",
       "      <th>0</th>\n",
       "      <td>63777124816001</td>\n",
       "      <td>63053</td>\n",
       "      <td>09/06/2025</td>\n",
       "      <td>Tanta</td>\n",
       "    </tr>\n",
       "    <tr>\n",
       "      <th>1</th>\n",
       "      <td>63777132638001</td>\n",
       "      <td>63227</td>\n",
       "      <td>09/01/2025</td>\n",
       "      <td>Alexandria</td>\n",
       "    </tr>\n",
       "    <tr>\n",
       "      <th>2</th>\n",
       "      <td>63777132648001</td>\n",
       "      <td>63183</td>\n",
       "      <td>09/01/2025</td>\n",
       "      <td>6th of Oct</td>\n",
       "    </tr>\n",
       "    <tr>\n",
       "      <th>3</th>\n",
       "      <td>63777132677001</td>\n",
       "      <td>63311</td>\n",
       "      <td>09/02/2025</td>\n",
       "      <td>Alexandria</td>\n",
       "    </tr>\n",
       "    <tr>\n",
       "      <th>4</th>\n",
       "      <td>63777144136001</td>\n",
       "      <td>63461</td>\n",
       "      <td>09/02/2025</td>\n",
       "      <td>6th of Oct</td>\n",
       "    </tr>\n",
       "    <tr>\n",
       "      <th>...</th>\n",
       "      <td>...</td>\n",
       "      <td>...</td>\n",
       "      <td>...</td>\n",
       "      <td>...</td>\n",
       "    </tr>\n",
       "    <tr>\n",
       "      <th>898</th>\n",
       "      <td>63777276112001</td>\n",
       "      <td>66846</td>\n",
       "      <td>NaN</td>\n",
       "      <td>Menofia</td>\n",
       "    </tr>\n",
       "    <tr>\n",
       "      <th>899</th>\n",
       "      <td>63777276118001</td>\n",
       "      <td>66842</td>\n",
       "      <td>NaN</td>\n",
       "      <td>Heliopolis</td>\n",
       "    </tr>\n",
       "    <tr>\n",
       "      <th>900</th>\n",
       "      <td>63777276131001</td>\n",
       "      <td>66829</td>\n",
       "      <td>NaN</td>\n",
       "      <td>Mansoura</td>\n",
       "    </tr>\n",
       "    <tr>\n",
       "      <th>901</th>\n",
       "      <td>63777276168001</td>\n",
       "      <td>66798</td>\n",
       "      <td>NaN</td>\n",
       "      <td>Mansoura</td>\n",
       "    </tr>\n",
       "    <tr>\n",
       "      <th>902</th>\n",
       "      <td>This is system generated excel sheet.</td>\n",
       "      <td>nan</td>\n",
       "      <td>NaN</td>\n",
       "      <td>NaN</td>\n",
       "    </tr>\n",
       "  </tbody>\n",
       "</table>\n",
       "<p>903 rows × 4 columns</p>\n",
       "</div>"
      ],
      "text/plain": [
       "21                                     AWB OrderID Status Date         HUB\n",
       "0                           63777124816001   63053  09/06/2025       Tanta\n",
       "1                           63777132638001   63227  09/01/2025  Alexandria\n",
       "2                           63777132648001   63183  09/01/2025  6th of Oct\n",
       "3                           63777132677001   63311  09/02/2025  Alexandria\n",
       "4                           63777144136001   63461  09/02/2025  6th of Oct\n",
       "..                                     ...     ...         ...         ...\n",
       "898                         63777276112001   66846         NaN     Menofia\n",
       "899                         63777276118001   66842         NaN  Heliopolis\n",
       "900                         63777276131001   66829         NaN    Mansoura\n",
       "901                         63777276168001   66798         NaN    Mansoura\n",
       "902  This is system generated excel sheet.     nan         NaN         NaN\n",
       "\n",
       "[903 rows x 4 columns]"
      ]
     },
     "execution_count": 77,
     "metadata": {},
     "output_type": "execute_result"
    }
   ],
   "source": [
    "df"
   ]
  },
  {
   "cell_type": "code",
   "execution_count": 103,
   "id": "9e741f0c",
   "metadata": {},
   "outputs": [
    {
     "name": "stdout",
     "output_type": "stream",
     "text": [
      "           AWB Product Group Origin Country Origin Entity Destination Country  \\\n",
      "0  50539234981           DOM          Egypt           CAI               Egypt   \n",
      "1  50538937245           DOM          Egypt           CAI               Egypt   \n",
      "2  50540414691           DOM          Egypt           CAI               Egypt   \n",
      "3  50540288816           DOM          Egypt           CAI               Egypt   \n",
      "4  50542194275           DOM          Egypt           CAI               Egypt   \n",
      "\n",
      "  Destination Entity Pickup Date (Creation Date) Pickup Time (Creation Time)  \\\n",
      "0                CAI                  2025-09-03                       00:00   \n",
      "1                CAI                  2025-09-01                       18:34   \n",
      "2                CAI                  2025-09-11                       18:15   \n",
      "3                CAI                  2025-09-10                       18:10   \n",
      "4                CAI                  2025-09-21                       00:00   \n",
      "\n",
      "  Origin Received Date Record Status  ...  HFPU Problem Code  \\\n",
      "0  2025-09-03 18:25:00          Full  ...                NaN   \n",
      "1  2025-09-01 18:34:00          Full  ...                NaN   \n",
      "2  2025-09-11 18:15:00          Full  ...                NaN   \n",
      "3  2025-09-10 18:10:00          Full  ...                NaN   \n",
      "4  2025-09-21 18:30:00          Full  ...                NaN   \n",
      "\n",
      "             Attention Of RTRN Pickup Date  RTRN Delivery Date  \\\n",
      "0                Aya Said              NaN                 NaN   \n",
      "1              Omar Fayad              NaN                 NaN   \n",
      "2  اسراء صلاح حامد الاشهب              NaN                 NaN   \n",
      "3            Khloud Ghaly              NaN                 NaN   \n",
      "4            Mariam Nabil              NaN                 NaN   \n",
      "\n",
      "                                     HAWB Dimensions  Has electrical weight  \\\n",
      "0  <DIM><WF>3000</WF><P>1</P><L>0</L><W>0</W><H>0...                      1   \n",
      "1  <DIM><WF>3000</WF><P>1</P><L>0</L><W>0</W><H>0...                      1   \n",
      "2  <DIM><WF>3000</WF><P>1</P><L>0</L><W>0</W><H>0...                      1   \n",
      "3  <DIM><WF>3000</WF><P>1</P><L>0</L><W>0</W><H>0...                      1   \n",
      "4  <DIM><WF>3000</WF><P>1</P><L>0</L><W>0</W><H>0...                      1   \n",
      "\n",
      "   Destination city tier Has HFPU  New Deliv. Instr. Date  \\\n",
      "0                 Tier 1        0                     NaN   \n",
      "1                 Tier 1        0                     NaN   \n",
      "2                 Tier 1        0                     NaN   \n",
      "3                 Tier 1        0                     NaN   \n",
      "4                 Tier 1        0                     NaN   \n",
      "\n",
      "   New Deliv. Instr. Source  \n",
      "0                       NaN  \n",
      "1                       NaN  \n",
      "2                       NaN  \n",
      "3                       NaN  \n",
      "4                       NaN  \n",
      "\n",
      "[5 rows x 73 columns]\n"
     ]
    }
   ],
   "source": [
    "aramex = r\"csv_output\\aramex.csv\"\n",
    "\n",
    "df = pd.read_csv(aramex)\n",
    "\n",
    "df = df.dropna(how='all').dropna(axis=1, how='all')\n",
    "\n",
    "\n",
    "print(df.head())"
   ]
  },
  {
   "cell_type": "code",
   "execution_count": 104,
   "id": "273b1e9c",
   "metadata": {},
   "outputs": [
    {
     "name": "stdout",
     "output_type": "stream",
     "text": [
      "<class 'pandas.core.frame.DataFrame'>\n",
      "RangeIndex: 908 entries, 0 to 907\n",
      "Data columns (total 73 columns):\n",
      " #   Column                                Non-Null Count  Dtype  \n",
      "---  ------                                --------------  -----  \n",
      " 0   AWB                                   908 non-null    int64  \n",
      " 1   Product Group                         908 non-null    object \n",
      " 2   Origin Country                        908 non-null    object \n",
      " 3   Origin Entity                         908 non-null    object \n",
      " 4   Destination Country                   908 non-null    object \n",
      " 5   Destination Entity                    908 non-null    object \n",
      " 6   Pickup Date (Creation Date)           908 non-null    object \n",
      " 7   Pickup Time (Creation Time)           908 non-null    object \n",
      " 8   Origin Received Date                  869 non-null    object \n",
      " 9   Record Status                         908 non-null    object \n",
      " 10  Pieces                                908 non-null    int64  \n",
      " 11  Weight                                908 non-null    float64\n",
      " 12  Commodity Description                 908 non-null    object \n",
      " 13  Account Number                        908 non-null    int64  \n",
      " 14  Account Name                          908 non-null    object \n",
      " 15  Shipper Reference                     883 non-null    float64\n",
      " 16  Shipper Reference2                    21 non-null     float64\n",
      " 17  ConsigneeName                         908 non-null    object \n",
      " 18  Consignee Reference 1                 6 non-null      float64\n",
      " 19  Consignee Phone Number                908 non-null    int64  \n",
      " 20  Status Category                       908 non-null    object \n",
      " 21  Status                                908 non-null    object \n",
      " 22  Year                                  908 non-null    int64  \n",
      " 23  Month                                 908 non-null    object \n",
      " 24  Delivery Status Action Date           755 non-null    object \n",
      " 25  Delivery Status Comment 1             755 non-null    object \n",
      " 26  Last Status Action Date               908 non-null    object \n",
      " 27  Services                              703 non-null    object \n",
      " 28  Origin City                           908 non-null    object \n",
      " 29  Destination City                      908 non-null    object \n",
      " 30  Chargeable Weight                     908 non-null    float64\n",
      " 31  Customer Name                         908 non-null    object \n",
      " 32  Shipper Name                          908 non-null    object \n",
      " 33  Consignee Country                     908 non-null    object \n",
      " 34  Consignee Address                     908 non-null    object \n",
      " 35  COD Value                             908 non-null    float64\n",
      " 36  COD Currency                          704 non-null    object \n",
      " 37  COD Value USD                         703 non-null    float64\n",
      " 38  Transferred Amount                    515 non-null    float64\n",
      " 39  Transferred Currency                  515 non-null    object \n",
      " 40  Transferred Amount USD                515 non-null    float64\n",
      " 41  Origin Departure Date                 846 non-null    object \n",
      " 42  Destination Country Arrival Date      846 non-null    object \n",
      " 43  1st Delivery Attempt                  270 non-null    object \n",
      " 44  1st Deliv. Atpt. Problem Code         270 non-null    object \n",
      " 45  2nd Delivery Attempt                  103 non-null    object \n",
      " 46  2nd Deliv. Atpt. Problem Code         103 non-null    object \n",
      " 47  3rd Delivery Attempt                  39 non-null     object \n",
      " 48  3rd Deliv. Atpt. Problem Code         39 non-null     object \n",
      " 49  Last Attempted Delivery Action Date   270 non-null    object \n",
      " 50  Last Attempted Delivery Problem Code  270 non-null    object \n",
      " 51  Total Out for Deliveries              908 non-null    int64  \n",
      " 52  Last Out For Delivery Date            831 non-null    object \n",
      " 53  First Out For Delivery                831 non-null    object \n",
      " 54  Total Delivery Attempts               908 non-null    int64  \n",
      " 55  Expected Delivery Date                908 non-null    object \n",
      " 56  SLA                                   908 non-null    int64  \n",
      " 57  Transit Days                          755 non-null    float64\n",
      " 58  Return AWB Number                     45 non-null     float64\n",
      " 59  Last Return to Sender                 45 non-null     object \n",
      " 60  Return Problem Code                   38 non-null     object \n",
      " 61  Payment Type                          908 non-null    object \n",
      " 62  HFPU Action Date                      5 non-null      object \n",
      " 63  HFPU Problem Code                     5 non-null      object \n",
      " 64  Attention Of                          908 non-null    object \n",
      " 65  RTRN Pickup Date                      36 non-null     object \n",
      " 66  RTRN Delivery Date                    29 non-null     object \n",
      " 67  HAWB Dimensions                       890 non-null    object \n",
      " 68  Has electrical weight                 908 non-null    int64  \n",
      " 69  Destination city tier                 698 non-null    object \n",
      " 70  Has HFPU                              908 non-null    int64  \n",
      " 71  New Deliv. Instr. Date                38 non-null     object \n",
      " 72  New Deliv. Instr. Source              38 non-null     object \n",
      "dtypes: float64(11), int64(10), object(52)\n",
      "memory usage: 518.0+ KB\n"
     ]
    }
   ],
   "source": [
    "df.info()"
   ]
  },
  {
   "cell_type": "code",
   "execution_count": 105,
   "id": "95eae666",
   "metadata": {},
   "outputs": [
    {
     "data": {
      "text/plain": [
       "array(['Paid', 'Delivered', 'Data Received', 'At Destination Facility',\n",
       "       'Returned', 'Still At Origin', 'Out For Delivery',\n",
       "       'Address Acquired', 'Customer Has Refused The Shipment',\n",
       "       'Held For Pickup'], dtype=object)"
      ]
     },
     "execution_count": 105,
     "metadata": {},
     "output_type": "execute_result"
    }
   ],
   "source": [
    "df['Status'].unique()"
   ]
  },
  {
   "cell_type": "code",
   "execution_count": 106,
   "id": "7402306b",
   "metadata": {},
   "outputs": [],
   "source": [
    "df['Shipper Reference'] = df['Shipper Reference'].astype(str)\n",
    "df['AWB'] = df['AWB'].astype(str)\n",
    "\n",
    "df = df.rename(columns={\n",
    "    'Shipper Reference': 'OrderID',\n",
    "    'Last Status Action Date': 'Status Date',\n",
    "    'Destination City' : 'City'\n",
    "})\n",
    "df['Status Date'] = pd.to_datetime(df['Status Date'], errors='coerce').dt.strftime('%d/%m/%Y')\n",
    "df['Status Date'] = pd.to_datetime(\n",
    "    df['Status Date'],\n",
    "    format=\"%d/%m/%Y\",   # غيّرها حسب شكل التاريخ في بياناتك\n",
    "    errors='coerce'\n",
    ")\n",
    "\n"
   ]
  },
  {
   "cell_type": "code",
   "execution_count": 107,
   "id": "1edb13ab",
   "metadata": {},
   "outputs": [
    {
     "name": "stdout",
     "output_type": "stream",
     "text": [
      "<class 'pandas.core.frame.DataFrame'>\n",
      "RangeIndex: 908 entries, 0 to 907\n",
      "Data columns (total 4 columns):\n",
      " #   Column       Non-Null Count  Dtype         \n",
      "---  ------       --------------  -----         \n",
      " 0   AWB          908 non-null    object        \n",
      " 1   OrderID      908 non-null    object        \n",
      " 2   Status Date  908 non-null    datetime64[ns]\n",
      " 3   City         908 non-null    object        \n",
      "dtypes: datetime64[ns](1), object(3)\n",
      "memory usage: 28.5+ KB\n"
     ]
    }
   ],
   "source": [
    "df=df[['AWB','OrderID', 'Status Date','City']]\n",
    "df.info()"
   ]
  },
  {
   "cell_type": "code",
   "execution_count": null,
   "id": "206840ab",
   "metadata": {},
   "outputs": [],
   "source": []
  },
  {
   "cell_type": "code",
   "execution_count": 108,
   "id": "70ce6757",
   "metadata": {},
   "outputs": [
    {
     "name": "stdout",
     "output_type": "stream",
     "text": [
      "   Tracking Number  Type            Created At Expected Pickup Date  \\\n",
      "0          9974930  SEND  09-23-2025, 14:20:21                  NaN   \n",
      "1         16963369  SEND  09-23-2025, 14:20:21                  NaN   \n",
      "2         61774061  SEND  09-24-2025, 10:22:05                  NaN   \n",
      "3         19587351  SEND  09-23-2025, 09:19:51                  NaN   \n",
      "4         14682945  SEND  09-23-2025, 09:08:17                  NaN   \n",
      "\n",
      "         Picked-Up Date Expected Delivery Date Expected Return Date  \\\n",
      "0  09-24-2025, 15:56:13                    NaN                  NaN   \n",
      "1  09-24-2025, 15:56:13                    NaN                  NaN   \n",
      "2  09-24-2025, 15:56:13                    NaN                  NaN   \n",
      "3  09-24-2025, 01:37:35   09-25-2025, 23:59:59                  NaN   \n",
      "4  09-23-2025, 19:13:56   09-24-2025, 23:59:59                  NaN   \n",
      "\n",
      "           Scheduled At     Current Hub Business Reference Number  ...  \\\n",
      "0                   NaN             NaN             chandbe:66374  ...   \n",
      "1                   NaN             NaN             chandbe:66382  ...   \n",
      "2                   NaN             NaN                    #66482  ...   \n",
      "3  09-25-2025, 23:59:59      Imbaba Hub             chandbe:66271  ...   \n",
      "4  09-25-2025, 03:00:00  Mohandseen Hub             chandbe:66331  ...   \n",
      "\n",
      "  Number Of attempts   Consignee Name Consignee phone  \\\n",
      "0                  0      Rabab Salim    201016081705   \n",
      "1                  0     Walaa Khaled    201061867086   \n",
      "2                  0    Shahd Mohamed    201069316492   \n",
      "3                  1  مروه محمود بدوي    201001106221   \n",
      "4                  0      Mayar Hatem    201099769684   \n",
      "\n",
      "                                  DropOff First Line  DropOff City Cod Amount  \\\n",
      "0  فيلا ١٧١ بنفسج ٩ التجمع الاول- الدور التاني شق...         Cairo        0.0   \n",
      "1  العبور الحي التاسع شارع أمينة الصاوي بلوك 1807...         Cairo        0.0   \n",
      "2  7شارع المشربيه المريوطية فيصل برج عباد الرحمن ...          Giza        0.0   \n",
      "3  وراق العرب امتداد شارع الوحده امام مستشفي الور...          Giza     2601.0   \n",
      "4  القاهرة - المهندسين - 26 ش الكروم  بجوار مسجد ...         Cairo     2601.0   \n",
      "\n",
      "                                               Notes  \\\n",
      "0                           Customer Notes: no notes   \n",
      "1                           Customer Notes: no notes   \n",
      "2  تبديل مع اوردر 63724 ضمن ال 30 يوم و تم دخوله ...   \n",
      "3                           Customer Notes: no notes   \n",
      "4  Customer Notes: التسليم داخل البنك من 8ص ل 2م ...   \n",
      "\n",
      "                                         Description Old Type  \\\n",
      "0  فرشاة التكثيف الاحترافية  2 في 1 | النسخة المط...      NaN   \n",
      "1  فرشاة التكثيف الاحترافية  2 في 1 | النسخة المط...      NaN   \n",
      "2                                  Hot Air Brush Pro      NaN   \n",
      "3  فرشاة التكثيف الاحترافية  2 في 1 | النسخة المط...      NaN   \n",
      "4  فرشاة التكثيف الاحترافية  2 في 1 | النسخة المط...      NaN   \n",
      "\n",
      "   Latest Exception Reason  \n",
      "0                      NaN  \n",
      "1                      NaN  \n",
      "2                      NaN  \n",
      "3                      NaN  \n",
      "4                      NaN  \n",
      "\n",
      "[5 rows x 24 columns]\n"
     ]
    }
   ],
   "source": [
    "bosts = r\"csv_output\\bosta.csv\"\n",
    "\n",
    "df = pd.read_csv(bosts)\n",
    "\n",
    "df = df.dropna(how='all').dropna(axis=1, how='all')\n",
    "\n",
    "\n",
    "print(df.head())"
   ]
  },
  {
   "cell_type": "code",
   "execution_count": 109,
   "id": "d61d201e",
   "metadata": {},
   "outputs": [
    {
     "name": "stdout",
     "output_type": "stream",
     "text": [
      "<class 'pandas.core.frame.DataFrame'>\n",
      "RangeIndex: 1675 entries, 0 to 1674\n",
      "Data columns (total 24 columns):\n",
      " #   Column                     Non-Null Count  Dtype  \n",
      "---  ------                     --------------  -----  \n",
      " 0   Tracking Number            1675 non-null   int64  \n",
      " 1   Type                       1675 non-null   object \n",
      " 2   Created At                 1675 non-null   object \n",
      " 3   Expected Pickup Date       69 non-null     object \n",
      " 4   Picked-Up Date             1506 non-null   object \n",
      " 5   Expected Delivery Date     1399 non-null   object \n",
      " 6   Expected Return Date       104 non-null    object \n",
      " 7   Scheduled At               1559 non-null   object \n",
      " 8   Current Hub                1569 non-null   object \n",
      " 9   Business Reference Number  1673 non-null   object \n",
      " 10  Updated at                 1675 non-null   object \n",
      " 11  Delivery State             1675 non-null   object \n",
      " 12  Delivered at               1489 non-null   object \n",
      " 13  Confirmed Delivery At      1430 non-null   object \n",
      " 14  Number Of attempts         1675 non-null   int64  \n",
      " 15  Consignee Name             1675 non-null   object \n",
      " 16  Consignee phone            1675 non-null   int64  \n",
      " 17  DropOff First Line         1675 non-null   object \n",
      " 18  DropOff City               1675 non-null   object \n",
      " 19  Cod Amount                 1675 non-null   float64\n",
      " 20  Notes                      1549 non-null   object \n",
      " 21  Description                1605 non-null   object \n",
      " 22  Old Type                   104 non-null    object \n",
      " 23  Latest Exception Reason    243 non-null    object \n",
      "dtypes: float64(1), int64(3), object(20)\n",
      "memory usage: 314.2+ KB\n"
     ]
    }
   ],
   "source": [
    "df.info()"
   ]
  },
  {
   "cell_type": "code",
   "execution_count": 110,
   "id": "6cd3bbfd",
   "metadata": {},
   "outputs": [],
   "source": [
    "df['Tracking Number'] = df['Tracking Number'].astype(str)\n",
    "\n",
    "df = df.rename(columns={\n",
    "    'Delivery State': 'Status',\n",
    "    'Tracking Number': 'AWB',\n",
    "    'Business Reference Number': 'OrderID',\n",
    "    'Updated at': 'Status Date',\n",
    "    'DropOff City' : 'City'\n",
    "})\n"
   ]
  },
  {
   "cell_type": "code",
   "execution_count": 111,
   "id": "558e67b0",
   "metadata": {},
   "outputs": [],
   "source": [
    "df['Status Date'] = pd.to_datetime(df['Status Date'], errors='coerce').dt.strftime('%d/%m/%Y')\n",
    "df['Status Date'] = pd.to_datetime(\n",
    "    df['Status Date'],\n",
    "    format=\"%d/%m/%Y\",   # غيّرها حسب شكل التاريخ في بياناتك\n",
    "    errors='coerce'\n",
    ")\n",
    "\n"
   ]
  },
  {
   "cell_type": "code",
   "execution_count": 112,
   "id": "581ad122",
   "metadata": {},
   "outputs": [
    {
     "name": "stdout",
     "output_type": "stream",
     "text": [
      "<class 'pandas.core.frame.DataFrame'>\n",
      "RangeIndex: 1675 entries, 0 to 1674\n",
      "Data columns (total 5 columns):\n",
      " #   Column       Non-Null Count  Dtype         \n",
      "---  ------       --------------  -----         \n",
      " 0   AWB          1675 non-null   object        \n",
      " 1   OrderID      1673 non-null   object        \n",
      " 2   Status       1675 non-null   object        \n",
      " 3   Status Date  1675 non-null   datetime64[ns]\n",
      " 4   City         1675 non-null   object        \n",
      "dtypes: datetime64[ns](1), object(4)\n",
      "memory usage: 65.6+ KB\n"
     ]
    }
   ],
   "source": [
    "df=df[['AWB','OrderID', 'Status','Status Date','City']]\n",
    "df.info()"
   ]
  },
  {
   "cell_type": "code",
   "execution_count": 147,
   "id": "6174295e",
   "metadata": {},
   "outputs": [
    {
     "name": "stdout",
     "output_type": "stream",
     "text": [
      "            AWB Creation Date Shipped With\n",
      "25256  22643955     9/28/2025        bosta\n",
      "25257  44530907     9/28/2025        bosta\n",
      "25258  77210929     9/28/2025        bosta\n",
      "25259  12973910     9/28/2025        bosta\n",
      "25260  64827303     9/28/2025        bosta\n"
     ]
    }
   ],
   "source": [
    "warehouse = r\"csv_output\\warehouse.csv\"\n",
    "\n",
    "df = pd.read_csv(warehouse)\n",
    "\n",
    "df = df.drop('Month',axis=1)\n",
    "df = df.rename(columns={\n",
    "   'Shipment id':'AWB',\n",
    "   'Date': 'Creation Date',\n",
    "})\n",
    "\n",
    "\n",
    "\n",
    "print(df.tail())"
   ]
  },
  {
   "cell_type": "code",
   "execution_count": 148,
   "id": "c304af2a",
   "metadata": {},
   "outputs": [
    {
     "name": "stdout",
     "output_type": "stream",
     "text": [
      "<class 'pandas.core.frame.DataFrame'>\n",
      "RangeIndex: 25261 entries, 0 to 25260\n",
      "Data columns (total 3 columns):\n",
      " #   Column         Non-Null Count  Dtype \n",
      "---  ------         --------------  ----- \n",
      " 0   AWB            25261 non-null  object\n",
      " 1   Creation Date  25261 non-null  object\n",
      " 2   Shipped With   25260 non-null  object\n",
      "dtypes: object(3)\n",
      "memory usage: 592.2+ KB\n"
     ]
    }
   ],
   "source": [
    "df.info()"
   ]
  },
  {
   "cell_type": "code",
   "execution_count": 149,
   "id": "59a5b9ba",
   "metadata": {},
   "outputs": [
    {
     "name": "stdout",
     "output_type": "stream",
     "text": [
      "<class 'pandas.core.frame.DataFrame'>\n",
      "RangeIndex: 25261 entries, 0 to 25260\n",
      "Data columns (total 3 columns):\n",
      " #   Column         Non-Null Count  Dtype         \n",
      "---  ------         --------------  -----         \n",
      " 0   AWB            25261 non-null  object        \n",
      " 1   Creation Date  25261 non-null  datetime64[ns]\n",
      " 2   Shipped With   25260 non-null  object        \n",
      "dtypes: datetime64[ns](1), object(2)\n",
      "memory usage: 592.2+ KB\n"
     ]
    }
   ],
   "source": [
    "def parse_date(x):\n",
    "    for fmt in (\"%m/%d/%Y\", \"%m/%d/%y\", \"%Y-%m-%d %H:%M:%S\"):\n",
    "        try:\n",
    "            return pd.to_datetime(x, format=fmt)\n",
    "        except (ValueError, TypeError):\n",
    "            continue\n",
    "    return pd.NaT\n",
    "\n",
    "df['Creation Date'] = df['Creation Date'].apply(parse_date).dt.normalize()\n",
    "\n",
    "\n",
    "\n",
    "df.info()"
   ]
  },
  {
   "cell_type": "code",
   "execution_count": null,
   "id": "f4dcea81",
   "metadata": {},
   "outputs": [],
   "source": []
  },
  {
   "cell_type": "code",
   "execution_count": null,
   "id": "b13ea10e",
   "metadata": {},
   "outputs": [],
   "source": []
  }
 ],
 "metadata": {
  "kernelspec": {
   "display_name": "Python 3",
   "language": "python",
   "name": "python3"
  },
  "language_info": {
   "codemirror_mode": {
    "name": "ipython",
    "version": 3
   },
   "file_extension": ".py",
   "mimetype": "text/x-python",
   "name": "python",
   "nbconvert_exporter": "python",
   "pygments_lexer": "ipython3",
   "version": "3.13.2"
  }
 },
 "nbformat": 4,
 "nbformat_minor": 5
}
